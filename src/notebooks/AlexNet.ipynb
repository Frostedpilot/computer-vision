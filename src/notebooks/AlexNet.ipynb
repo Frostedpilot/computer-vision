{
 "cells": [
  {
   "cell_type": "code",
   "execution_count": 1,
   "metadata": {},
   "outputs": [],
   "source": [
    "import os\n",
    "import torch as torch\n",
    "import torchvision.transforms as transforms\n",
    "import torchvision.datasets as datasets\n",
    "from torch.utils.data import DataLoader\n",
    "from torchvision.datasets import ImageFolder\n",
    "from torchsummary import summary\n",
    "import torch.nn as nn\n",
    "import torch.optim as optim\n",
    "import torch.nn.functional as F\n",
    "import numpy as np"
   ]
  },
  {
   "cell_type": "code",
   "execution_count": null,
   "metadata": {},
   "outputs": [],
   "source": [
    "torch.manual_seed(69)"
   ]
  },
  {
   "cell_type": "code",
   "execution_count": 2,
   "metadata": {},
   "outputs": [],
   "source": [
    "DEVICE = torch.device(\"cuda\" if torch.cuda.is_available() else \"cpu\")"
   ]
  },
  {
   "cell_type": "code",
   "execution_count": 3,
   "metadata": {},
   "outputs": [],
   "source": [
    "transforms = transforms.Compose([\n",
    "    transforms.Resize((227, 227)),\n",
    "    transforms.ToTensor(),\n",
    "    transforms.Normalize((0.5, 0.5, 0.5), (0.5, 0.5, 0.5))\n",
    "])"
   ]
  },
  {
   "cell_type": "code",
   "execution_count": 4,
   "metadata": {},
   "outputs": [],
   "source": [
    "train_dir = '../../data/cat_dog/training_set'\n",
    "test_dir = '../../data/cat_dog/test_set'\n",
    "\n",
    "train_dataset = ImageFolder(train_dir, transform=transforms)\n",
    "test_dataset = ImageFolder(test_dir, transform=transforms)"
   ]
  },
  {
   "cell_type": "code",
   "execution_count": 5,
   "metadata": {},
   "outputs": [],
   "source": [
    "train_dataloader = DataLoader(train_dataset, batch_size=32, shuffle=True)\n",
    "test_dataloader = DataLoader(test_dataset, batch_size=32, shuffle=False)"
   ]
  },
  {
   "cell_type": "code",
   "execution_count": null,
   "metadata": {},
   "outputs": [],
   "source": [
    "class AlexNet(nn.Module):\n",
    "    def __init__(self):\n",
    "        super(AlexNet, self).__init__()\n",
    "        self.conv1 = nn.Conv2d(3, 96, 11, 4)\n",
    "        self.pool1 = nn.MaxPool2d(3, 2)\n",
    "        self.conv2 = nn.Conv2d(96, 256, 5, 1, 2)\n",
    "        self.pool2 = nn.MaxPool2d(3, 2)\n",
    "        self.conv3 = nn.Conv2d(256, 384, 3, 1, 1)\n",
    "        self.conv4 = nn.Conv2d(384, 384, 3, 1, 1)\n",
    "        self.conv5 = nn.Conv2d(384, 256, 3, 1, 1)\n",
    "        self.pool3 = nn.MaxPool2d(3, 2)\n",
    "        self.fc1 = nn.Linear(256 * 6 * 6, 4096)\n",
    "        self.fc2 = nn.Linear(4096, 4096)\n",
    "        self.fc3 = nn.Linear(4096, 2)\n",
    "        self.dropout = nn.Dropout(0.5)\n",
    "        self.relu = nn.ReLU()\n",
    "\n",
    "    def forward(self, x):\n",
    "        # [32, 3, 224, 224]\n",
    "        x = self.pool1(self.relu(self.conv1(x)))\n",
    "        # [32, 3, 224, 224] -> [32, 96, 55, 55]\n",
    "        x = self.pool2(self.relu(self.conv2(x)))\n",
    "        # [32, 96, 55, 55] -> [32, 256, 13, 13]\n",
    "        x = self.relu(self.conv3(x))\n",
    "        # [32, 256, 13, 13] -> [32, 384, 13, 13]\n",
    "        x = self.relu(self.conv4(x))\n",
    "        # [32, 384, 13, 13] -> [32, 384, 13, 13]\n",
    "        x = self.pool3(self.relu(self.conv5(x)))\n",
    "        # [32, 384, 13, 13] -> [32, 256, 6, 6]\n",
    "        x = x.view(-1, 256 * 6 * 6)\n",
    "        x = self.dropout(self.relu(self.fc1(x)))\n",
    "        x = self.dropout(self.relu(self.fc2(x)))\n",
    "        x = self.fc3(x)\n",
    "        return x"
   ]
  },
  {
   "cell_type": "code",
   "execution_count": 7,
   "metadata": {},
   "outputs": [],
   "source": [
    "model = AlexNet().to(DEVICE)\n",
    "criterion = nn.CrossEntropyLoss()\n",
    "optimizer = optim.Adam(model.parameters(), lr=0.0001)\n"
   ]
  },
  {
   "cell_type": "code",
   "execution_count": 8,
   "metadata": {},
   "outputs": [
    {
     "name": "stdout",
     "output_type": "stream",
     "text": [
      "----------------------------------------------------------------\n",
      "        Layer (type)               Output Shape         Param #\n",
      "================================================================\n",
      "            Conv2d-1           [32, 96, 55, 55]          34,944\n",
      "              ReLU-2           [32, 96, 55, 55]               0\n",
      "         MaxPool2d-3           [32, 96, 27, 27]               0\n",
      "            Conv2d-4          [32, 256, 27, 27]         614,656\n",
      "              ReLU-5          [32, 256, 27, 27]               0\n",
      "         MaxPool2d-6          [32, 256, 13, 13]               0\n",
      "            Conv2d-7          [32, 384, 13, 13]         885,120\n",
      "              ReLU-8          [32, 384, 13, 13]               0\n",
      "            Conv2d-9          [32, 384, 13, 13]       1,327,488\n",
      "             ReLU-10          [32, 384, 13, 13]               0\n",
      "           Conv2d-11          [32, 256, 13, 13]         884,992\n",
      "             ReLU-12          [32, 256, 13, 13]               0\n",
      "        MaxPool2d-13            [32, 256, 6, 6]               0\n",
      "           Linear-14                 [32, 4096]      37,752,832\n",
      "             ReLU-15                 [32, 4096]               0\n",
      "          Dropout-16                 [32, 4096]               0\n",
      "           Linear-17                 [32, 4096]      16,781,312\n",
      "             ReLU-18                 [32, 4096]               0\n",
      "          Dropout-19                 [32, 4096]               0\n",
      "           Linear-20                    [32, 2]           8,194\n",
      "================================================================\n",
      "Total params: 58,289,538\n",
      "Trainable params: 58,289,538\n",
      "Non-trainable params: 0\n",
      "----------------------------------------------------------------\n",
      "Input size (MB): 18.87\n",
      "Forward/backward pass size (MB): 353.32\n",
      "Params size (MB): 222.36\n",
      "Estimated Total Size (MB): 594.55\n",
      "----------------------------------------------------------------\n"
     ]
    }
   ],
   "source": [
    "summary(model, (3, 227, 227), 32)"
   ]
  },
  {
   "cell_type": "code",
   "execution_count": 9,
   "metadata": {},
   "outputs": [],
   "source": [
    "def train_one_epoch(model, dataloader, optimizer, criterion):\n",
    "    model.train()\n",
    "    running_loss = 0.0\n",
    "    for i, data in enumerate(dataloader):\n",
    "        inputs, labels = data\n",
    "        inputs, labels = inputs.to(DEVICE), labels.to(DEVICE)\n",
    "        optimizer.zero_grad()\n",
    "        outputs = model(inputs)\n",
    "        loss = criterion(outputs, labels)\n",
    "        loss.backward()\n",
    "        optimizer.step()\n",
    "        running_loss += loss.item()\n",
    "    return running_loss / len(dataloader)"
   ]
  },
  {
   "cell_type": "code",
   "execution_count": 10,
   "metadata": {},
   "outputs": [],
   "source": [
    "def evaluate(model, dataloader, criterion):\n",
    "    model.eval()\n",
    "    running_loss = 0.0\n",
    "    correct = 0\n",
    "    total = 0\n",
    "    with torch.no_grad():\n",
    "        for i, data in enumerate(dataloader):\n",
    "            inputs, labels = data\n",
    "            inputs, labels = inputs.to(DEVICE), labels.to(DEVICE)\n",
    "            outputs = model(inputs)\n",
    "            loss = criterion(outputs, labels)\n",
    "            running_loss += loss.item()\n",
    "            _, predicted = torch.max(outputs, 1)\n",
    "            total += labels.size(0)\n",
    "            correct += (predicted == labels).sum().item()\n",
    "    return running_loss / len(dataloader), correct / total"
   ]
  },
  {
   "cell_type": "code",
   "execution_count": 11,
   "metadata": {},
   "outputs": [
    {
     "name": "stdout",
     "output_type": "stream",
     "text": [
      "epoch: 0, train_loss: 0.6688631000034363, test_loss: 0.692940064240247, test_acc: 0.5570934256055363\n",
      "epoch: 1, train_loss: 0.6263032778800721, test_loss: 0.5939315976575017, test_acc: 0.6846267918932278\n",
      "epoch: 2, train_loss: 0.5689054595759191, test_loss: 0.5799907816108316, test_acc: 0.6994562530894711\n",
      "epoch: 3, train_loss: 0.4860276678406385, test_loss: 0.44768622354604304, test_acc: 0.7938704893722195\n",
      "epoch: 4, train_loss: 0.41842166070206704, test_loss: 0.4907483458518982, test_acc: 0.7849728126544736\n",
      "epoch: 5, train_loss: 0.36240037592996166, test_loss: 0.39131883764639497, test_acc: 0.8363816114681166\n",
      "epoch: 6, train_loss: 0.316205856957996, test_loss: 0.37085045129060745, test_acc: 0.8329214038556599\n",
      "epoch: 7, train_loss: 0.2723030579755031, test_loss: 0.3677449888782576, test_acc: 0.8269896193771626\n",
      "epoch: 8, train_loss: 0.21494586589148795, test_loss: 0.4089826731942594, test_acc: 0.8205635195254573\n",
      "epoch: 9, train_loss: 0.1662838514745829, test_loss: 0.4058612852822989, test_acc: 0.847256549678695\n"
     ]
    }
   ],
   "source": [
    "epoch = 10\n",
    "for i in range(epoch):\n",
    "    train_loss = train_one_epoch(model, train_dataloader, optimizer, criterion)\n",
    "    test_loss, test_acc = evaluate(model, test_dataloader, criterion)\n",
    "    print(f'epoch: {i}, train_loss: {train_loss}, test_loss: {test_loss}, test_acc: {test_acc}')"
   ]
  }
 ],
 "metadata": {
  "kernelspec": {
   "display_name": "Python 3",
   "language": "python",
   "name": "python3"
  },
  "language_info": {
   "codemirror_mode": {
    "name": "ipython",
    "version": 3
   },
   "file_extension": ".py",
   "mimetype": "text/x-python",
   "name": "python",
   "nbconvert_exporter": "python",
   "pygments_lexer": "ipython3",
   "version": "3.12.2"
  }
 },
 "nbformat": 4,
 "nbformat_minor": 2
}

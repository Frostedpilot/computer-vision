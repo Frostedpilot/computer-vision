{
 "cells": [
  {
   "cell_type": "code",
   "execution_count": 1,
   "metadata": {},
   "outputs": [],
   "source": [
    "import os\n",
    "import torch as torch\n",
    "import torchvision.transforms as transforms\n",
    "import torchvision.datasets as datasets\n",
    "from torch.utils.data import DataLoader\n",
    "from torchvision.datasets import ImageFolder\n",
    "from torchsummary import summary\n",
    "import torch.nn as nn\n",
    "import torch.optim as optim\n",
    "import torch.nn.functional as F\n",
    "import numpy as np"
   ]
  },
  {
   "cell_type": "code",
   "execution_count": 2,
   "metadata": {},
   "outputs": [
    {
     "data": {
      "text/plain": [
       "<torch._C.Generator at 0x25d4e11d590>"
      ]
     },
     "execution_count": 2,
     "metadata": {},
     "output_type": "execute_result"
    }
   ],
   "source": [
    "torch.manual_seed(69)"
   ]
  },
  {
   "cell_type": "code",
   "execution_count": 3,
   "metadata": {},
   "outputs": [],
   "source": [
    "DEVICE = torch.device(\"cuda\" if torch.cuda.is_available() else \"cpu\")"
   ]
  },
  {
   "cell_type": "code",
   "execution_count": 4,
   "metadata": {},
   "outputs": [],
   "source": [
    "transforms = transforms.Compose([\n",
    "    transforms.Resize((227, 227)),\n",
    "    transforms.ToTensor(),\n",
    "    transforms.Normalize((0.5, 0.5, 0.5), (0.5, 0.5, 0.5))\n",
    "])"
   ]
  },
  {
   "cell_type": "code",
   "execution_count": 5,
   "metadata": {},
   "outputs": [],
   "source": [
    "train_dir = '../../data/cat_dog/training_set'\n",
    "test_dir = '../../data/cat_dog/test_set'\n",
    "\n",
    "train_dataset = ImageFolder(train_dir, transform=transforms)\n",
    "test_dataset = ImageFolder(test_dir, transform=transforms)"
   ]
  },
  {
   "cell_type": "code",
   "execution_count": 6,
   "metadata": {},
   "outputs": [],
   "source": [
    "train_dataloader = DataLoader(train_dataset, batch_size=32, shuffle=True)\n",
    "test_dataloader = DataLoader(test_dataset, batch_size=32, shuffle=False)"
   ]
  },
  {
   "cell_type": "code",
   "execution_count": 7,
   "metadata": {},
   "outputs": [],
   "source": [
    "class AlexNet(nn.Module):\n",
    "    def __init__(self):\n",
    "        super(AlexNet, self).__init__()\n",
    "        self.conv1 = nn.Conv2d(3, 96, 11, 4)\n",
    "        self.pool1 = nn.MaxPool2d(3, 2)\n",
    "        self.conv2 = nn.Conv2d(96, 256, 5, 1, 2)\n",
    "        self.pool2 = nn.MaxPool2d(3, 2)\n",
    "        self.conv3 = nn.Conv2d(256, 384, 3, 1, 1)\n",
    "        self.conv4 = nn.Conv2d(384, 384, 3, 1, 1)\n",
    "        self.conv5 = nn.Conv2d(384, 256, 3, 1, 1)\n",
    "        self.pool3 = nn.MaxPool2d(3, 2)\n",
    "        self.fc1 = nn.Linear(256 * 6 * 6, 4096)\n",
    "        self.fc2 = nn.Linear(4096, 4096)\n",
    "        self.fc3 = nn.Linear(4096, 2)\n",
    "        self.dropout = nn.Dropout(0.5)\n",
    "        self.relu = nn.ReLU()\n",
    "\n",
    "        self._initialize_weights()\n",
    "\n",
    "    def forward(self, x):\n",
    "        # [32, 3, 224, 224]\n",
    "        x = self.pool1(self.relu(self.conv1(x)))\n",
    "        # [32, 3, 224, 224] -> [32, 96, 55, 55]\n",
    "        x = self.pool2(self.relu(self.conv2(x)))\n",
    "        # [32, 96, 55, 55] -> [32, 256, 13, 13]\n",
    "        x = self.relu(self.conv3(x))\n",
    "        # [32, 256, 13, 13] -> [32, 384, 13, 13]\n",
    "        x = self.relu(self.conv4(x))\n",
    "        # [32, 384, 13, 13] -> [32, 384, 13, 13]\n",
    "        x = self.pool3(self.relu(self.conv5(x)))\n",
    "        # [32, 384, 13, 13] -> [32, 256, 6, 6]\n",
    "        x = x.view(-1, 256 * 6 * 6)\n",
    "        x = self.dropout(self.relu(self.fc1(x)))\n",
    "        x = self.dropout(self.relu(self.fc2(x)))\n",
    "        x = self.fc3(x)\n",
    "        return x\n",
    "    \n",
    "    def _initialize_weights(self):\n",
    "        for m in self.modules():\n",
    "            if isinstance(m, nn.Conv2d):\n",
    "                nn.init.kaiming_normal_(m.weight, mode='fan_out', nonlinearity='relu')\n",
    "                if m.bias is not None:\n",
    "                    nn.init.constant_(m.bias, 0)\n",
    "            elif isinstance(m, nn.Linear):\n",
    "                nn.init.kaiming_normal_(m.weight, mode='fan_out', nonlinearity='relu')\n",
    "                nn.init.constant_(m.bias, 0)"
   ]
  },
  {
   "cell_type": "code",
   "execution_count": 8,
   "metadata": {},
   "outputs": [],
   "source": [
    "model = AlexNet().to(DEVICE)\n",
    "criterion = nn.CrossEntropyLoss()\n",
    "optimizer = optim.Adam(model.parameters(), lr=0.0001)\n"
   ]
  },
  {
   "cell_type": "code",
   "execution_count": 9,
   "metadata": {},
   "outputs": [
    {
     "name": "stdout",
     "output_type": "stream",
     "text": [
      "----------------------------------------------------------------\n",
      "        Layer (type)               Output Shape         Param #\n",
      "================================================================\n",
      "            Conv2d-1           [32, 96, 55, 55]          34,944\n",
      "              ReLU-2           [32, 96, 55, 55]               0\n",
      "         MaxPool2d-3           [32, 96, 27, 27]               0\n",
      "            Conv2d-4          [32, 256, 27, 27]         614,656\n",
      "              ReLU-5          [32, 256, 27, 27]               0\n",
      "         MaxPool2d-6          [32, 256, 13, 13]               0\n",
      "            Conv2d-7          [32, 384, 13, 13]         885,120\n",
      "              ReLU-8          [32, 384, 13, 13]               0\n",
      "            Conv2d-9          [32, 384, 13, 13]       1,327,488\n",
      "             ReLU-10          [32, 384, 13, 13]               0\n",
      "           Conv2d-11          [32, 256, 13, 13]         884,992\n",
      "             ReLU-12          [32, 256, 13, 13]               0\n",
      "        MaxPool2d-13            [32, 256, 6, 6]               0\n",
      "           Linear-14                 [32, 4096]      37,752,832\n",
      "             ReLU-15                 [32, 4096]               0\n",
      "          Dropout-16                 [32, 4096]               0\n",
      "           Linear-17                 [32, 4096]      16,781,312\n",
      "             ReLU-18                 [32, 4096]               0\n",
      "          Dropout-19                 [32, 4096]               0\n",
      "           Linear-20                    [32, 2]           8,194\n",
      "================================================================\n",
      "Total params: 58,289,538\n",
      "Trainable params: 58,289,538\n",
      "Non-trainable params: 0\n",
      "----------------------------------------------------------------\n",
      "Input size (MB): 18.87\n",
      "Forward/backward pass size (MB): 353.32\n",
      "Params size (MB): 222.36\n",
      "Estimated Total Size (MB): 594.55\n",
      "----------------------------------------------------------------\n"
     ]
    }
   ],
   "source": [
    "summary(model, (3, 227, 227), 32)"
   ]
  },
  {
   "cell_type": "code",
   "execution_count": 10,
   "metadata": {},
   "outputs": [],
   "source": [
    "def train_one_epoch(model, dataloader, optimizer, criterion):\n",
    "    model.train()\n",
    "    running_loss = 0.0\n",
    "    for i, data in enumerate(dataloader):\n",
    "        inputs, labels = data\n",
    "        inputs, labels = inputs.to(DEVICE), labels.to(DEVICE)\n",
    "        optimizer.zero_grad()\n",
    "        outputs = model(inputs)\n",
    "        loss = criterion(outputs, labels)\n",
    "        loss.backward()\n",
    "        optimizer.step()\n",
    "        running_loss += loss.item()\n",
    "    return running_loss / len(dataloader)"
   ]
  },
  {
   "cell_type": "code",
   "execution_count": 11,
   "metadata": {},
   "outputs": [],
   "source": [
    "def evaluate(model, dataloader, criterion):\n",
    "    model.eval()\n",
    "    running_loss = 0.0\n",
    "    correct = 0\n",
    "    total = 0\n",
    "    with torch.no_grad():\n",
    "        for i, data in enumerate(dataloader):\n",
    "            inputs, labels = data\n",
    "            inputs, labels = inputs.to(DEVICE), labels.to(DEVICE)\n",
    "            outputs = model(inputs)\n",
    "            loss = criterion(outputs, labels)\n",
    "            running_loss += loss.item()\n",
    "            _, predicted = torch.max(outputs, 1)\n",
    "            total += labels.size(0)\n",
    "            correct += (predicted == labels).sum().item()\n",
    "    return running_loss / len(dataloader), correct / total"
   ]
  },
  {
   "cell_type": "code",
   "execution_count": 12,
   "metadata": {},
   "outputs": [
    {
     "name": "stdout",
     "output_type": "stream",
     "text": [
      "epoch: 0, train_loss: 1.6279557663131046, test_loss: 0.6170331100001931, test_acc: 0.6569451309935739\n",
      "epoch: 1, train_loss: 0.6401617346531842, test_loss: 0.6692647703457624, test_acc: 0.6129510627780524\n",
      "epoch: 2, train_loss: 0.6033247893312538, test_loss: 0.6074794288724661, test_acc: 0.6791893227879388\n",
      "epoch: 3, train_loss: 0.5879450204125438, test_loss: 0.5643278704956174, test_acc: 0.7113198220464656\n",
      "epoch: 4, train_loss: 0.5280114748325956, test_loss: 0.5167098930105567, test_acc: 0.7523479980227386\n",
      "epoch: 5, train_loss: 0.5032513791108987, test_loss: 0.5699457908049226, test_acc: 0.708353929807217\n",
      "epoch: 6, train_loss: 0.4679032469175726, test_loss: 0.48292724695056677, test_acc: 0.782501235788433\n",
      "epoch: 7, train_loss: 0.4422226379592105, test_loss: 0.4608532334677875, test_acc: 0.7795353435491844\n",
      "epoch: 8, train_loss: 0.4011144198150749, test_loss: 0.45840863115154207, test_acc: 0.7849728126544736\n",
      "epoch: 9, train_loss: 0.3733643940779792, test_loss: 0.46402191009838134, test_acc: 0.7815126050420168\n",
      "epoch: 10, train_loss: 0.32648419787684285, test_loss: 0.4087018466088921, test_acc: 0.8151260504201681\n",
      "epoch: 11, train_loss: 0.3101035042469245, test_loss: 0.41212098055984825, test_acc: 0.8225407810182896\n",
      "epoch: 12, train_loss: 0.2788563596596756, test_loss: 0.42405411892104894, test_acc: 0.8230350963914977\n",
      "epoch: 13, train_loss: 0.24910884322338844, test_loss: 0.41681783250533044, test_acc: 0.8136431043005438\n",
      "epoch: 14, train_loss: 0.2140184428498327, test_loss: 0.4062078252900392, test_acc: 0.8225407810182896\n",
      "epoch: 15, train_loss: 0.18403450815207456, test_loss: 0.48949944018386304, test_acc: 0.8151260504201681\n",
      "epoch: 16, train_loss: 0.16192518144222606, test_loss: 0.4754480925621465, test_acc: 0.8319327731092437\n",
      "epoch: 17, train_loss: 0.14452421238861118, test_loss: 0.4805968792643398, test_acc: 0.8235294117647058\n",
      "epoch: 18, train_loss: 0.11951924016350413, test_loss: 0.5953944423235953, test_acc: 0.8136431043005438\n",
      "epoch: 19, train_loss: 0.09726251326909519, test_loss: 0.5642998804396484, test_acc: 0.8319327731092437\n"
     ]
    }
   ],
   "source": [
    "epoch = 20\n",
    "for i in range(epoch):\n",
    "    train_loss = train_one_epoch(model, train_dataloader, optimizer, criterion)\n",
    "    test_loss, test_acc = evaluate(model, test_dataloader, criterion)\n",
    "    print(f'epoch: {i}, train_loss: {train_loss}, test_loss: {test_loss}, test_acc: {test_acc}')"
   ]
  }
 ],
 "metadata": {
  "kernelspec": {
   "display_name": "Python 3",
   "language": "python",
   "name": "python3"
  },
  "language_info": {
   "codemirror_mode": {
    "name": "ipython",
    "version": 3
   },
   "file_extension": ".py",
   "mimetype": "text/x-python",
   "name": "python",
   "nbconvert_exporter": "python",
   "pygments_lexer": "ipython3",
   "version": "3.12.2"
  }
 },
 "nbformat": 4,
 "nbformat_minor": 2
}

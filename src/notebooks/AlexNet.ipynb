{
 "cells": [
  {
   "cell_type": "code",
   "execution_count": 1,
   "metadata": {},
   "outputs": [],
   "source": [
    "import os\n",
    "import torch as torch\n",
    "import torchvision.transforms.v2 as transforms\n",
    "import torchvision.datasets as datasets\n",
    "from torch.utils.data import DataLoader\n",
    "from torchvision.datasets import ImageFolder\n",
    "from torchsummary import summary\n",
    "import torch.nn as nn\n",
    "import torch.optim as optim\n",
    "import torch.nn.functional as F\n",
    "import numpy as np"
   ]
  },
  {
   "cell_type": "code",
   "execution_count": 2,
   "metadata": {},
   "outputs": [
    {
     "data": {
      "text/plain": [
       "<torch._C.Generator at 0x25721001590>"
      ]
     },
     "execution_count": 2,
     "metadata": {},
     "output_type": "execute_result"
    }
   ],
   "source": [
    "torch.manual_seed(69)"
   ]
  },
  {
   "cell_type": "code",
   "execution_count": 3,
   "metadata": {},
   "outputs": [],
   "source": [
    "DEVICE = torch.device(\"cuda\" if torch.cuda.is_available() else \"cpu\")"
   ]
  },
  {
   "cell_type": "code",
   "execution_count": 4,
   "metadata": {},
   "outputs": [],
   "source": [
    "train_transform = transforms.Compose([\n",
    "    transforms.RandomResizedCrop(227),\n",
    "    transforms.RandomHorizontalFlip(),\n",
    "    transforms.RandomRotation(15),\n",
    "    transforms.ColorJitter(brightness=0.15, contrast=0.15, saturation=0.15, hue=0.15),\n",
    "    transforms.ToImage(),\n",
    "    transforms.ToDtype(torch.float32, scale=True),\n",
    "    transforms.Normalize(mean=[0.485, 0.456, 0.406],\n",
    "                         std=[0.229, 0.224, 0.225])\n",
    "])\n",
    "\n",
    "test_transform = transforms.Compose([\n",
    "    transforms.Resize(256),\n",
    "    transforms.CenterCrop(227),\n",
    "    transforms.ToImage(),\n",
    "    transforms.ToDtype(torch.float32, scale=True),\n",
    "    transforms.Normalize(mean=[0.485, 0.456, 0.406],\n",
    "                         std=[0.229, 0.224, 0.225])\n",
    "])"
   ]
  },
  {
   "cell_type": "code",
   "execution_count": 5,
   "metadata": {},
   "outputs": [],
   "source": [
    "train_dir = '../../data/cat_dog/training_set'\n",
    "test_dir = '../../data/cat_dog/test_set'\n",
    "\n",
    "train_dataset = ImageFolder(train_dir, transform=train_transform)\n",
    "test_dataset = ImageFolder(test_dir, transform=test_transform)"
   ]
  },
  {
   "cell_type": "code",
   "execution_count": 6,
   "metadata": {},
   "outputs": [],
   "source": [
    "train_dataloader = DataLoader(train_dataset, batch_size=32, shuffle=True)\n",
    "test_dataloader = DataLoader(test_dataset, batch_size=32, shuffle=False)"
   ]
  },
  {
   "cell_type": "code",
   "execution_count": 7,
   "metadata": {},
   "outputs": [],
   "source": [
    "class AlexNet(nn.Module):\n",
    "    def __init__(self):\n",
    "        super(AlexNet, self).__init__()\n",
    "        self.conv1 = nn.Conv2d(3, 96, 11, 4)\n",
    "        self.pool1 = nn.MaxPool2d(3, 2)\n",
    "        self.conv2 = nn.Conv2d(96, 256, 5, 1, 2)\n",
    "        self.pool2 = nn.MaxPool2d(3, 2)\n",
    "        self.conv3 = nn.Conv2d(256, 384, 3, 1, 1)\n",
    "        self.conv4 = nn.Conv2d(384, 384, 3, 1, 1)\n",
    "        self.conv5 = nn.Conv2d(384, 256, 3, 1, 1)\n",
    "        self.pool3 = nn.MaxPool2d(3, 2)\n",
    "        self.fc1 = nn.Linear(256 * 6 * 6, 4096)\n",
    "        self.fc2 = nn.Linear(4096, 4096)\n",
    "        self.fc3 = nn.Linear(4096, 2)\n",
    "        self.dropout = nn.Dropout(0.5)\n",
    "        self.relu = nn.ReLU()\n",
    "\n",
    "        # self._initialize_weights()\n",
    "\n",
    "    def forward(self, x):\n",
    "        # [32, 3, 224, 224]\n",
    "        x = self.pool1(self.relu(self.conv1(x)))\n",
    "        # [32, 3, 224, 224] -> [32, 96, 55, 55]\n",
    "        x = self.pool2(self.relu(self.conv2(x)))\n",
    "        # [32, 96, 55, 55] -> [32, 256, 13, 13]\n",
    "        x = self.relu(self.conv3(x))\n",
    "        # [32, 256, 13, 13] -> [32, 384, 13, 13]\n",
    "        x = self.relu(self.conv4(x))\n",
    "        # [32, 384, 13, 13] -> [32, 384, 13, 13]\n",
    "        x = self.pool3(self.relu(self.conv5(x)))\n",
    "        # [32, 384, 13, 13] -> [32, 256, 6, 6]\n",
    "        x = x.view(-1, 256 * 6 * 6)\n",
    "        x = self.dropout(self.relu(self.fc1(x)))\n",
    "        x = self.dropout(self.relu(self.fc2(x)))\n",
    "        x = self.fc3(x)\n",
    "        return x\n",
    "    \n",
    "    def _initialize_weights(self):\n",
    "        for m in self.modules():\n",
    "            if isinstance(m, nn.Conv2d):\n",
    "                nn.init.kaiming_normal_(m.weight, mode='fan_out', nonlinearity='relu')\n",
    "                if m.bias is not None:\n",
    "                    nn.init.constant_(m.bias, 0)\n",
    "            elif isinstance(m, nn.Linear):\n",
    "                nn.init.kaiming_normal_(m.weight, mode='fan_out', nonlinearity='relu')\n",
    "                nn.init.constant_(m.bias, 0)"
   ]
  },
  {
   "cell_type": "code",
   "execution_count": 8,
   "metadata": {},
   "outputs": [],
   "source": [
    "model = AlexNet().to(DEVICE)\n",
    "criterion = nn.CrossEntropyLoss()\n",
    "optimizer = optim.Adam(model.parameters(), lr=0.0001)\n"
   ]
  },
  {
   "cell_type": "code",
   "execution_count": 9,
   "metadata": {},
   "outputs": [
    {
     "name": "stdout",
     "output_type": "stream",
     "text": [
      "----------------------------------------------------------------\n",
      "        Layer (type)               Output Shape         Param #\n",
      "================================================================\n",
      "            Conv2d-1           [32, 96, 55, 55]          34,944\n",
      "              ReLU-2           [32, 96, 55, 55]               0\n",
      "         MaxPool2d-3           [32, 96, 27, 27]               0\n",
      "            Conv2d-4          [32, 256, 27, 27]         614,656\n",
      "              ReLU-5          [32, 256, 27, 27]               0\n",
      "         MaxPool2d-6          [32, 256, 13, 13]               0\n",
      "            Conv2d-7          [32, 384, 13, 13]         885,120\n",
      "              ReLU-8          [32, 384, 13, 13]               0\n",
      "            Conv2d-9          [32, 384, 13, 13]       1,327,488\n",
      "             ReLU-10          [32, 384, 13, 13]               0\n",
      "           Conv2d-11          [32, 256, 13, 13]         884,992\n",
      "             ReLU-12          [32, 256, 13, 13]               0\n",
      "        MaxPool2d-13            [32, 256, 6, 6]               0\n",
      "           Linear-14                 [32, 4096]      37,752,832\n",
      "             ReLU-15                 [32, 4096]               0\n",
      "          Dropout-16                 [32, 4096]               0\n",
      "           Linear-17                 [32, 4096]      16,781,312\n",
      "             ReLU-18                 [32, 4096]               0\n",
      "          Dropout-19                 [32, 4096]               0\n",
      "           Linear-20                    [32, 2]           8,194\n",
      "================================================================\n",
      "Total params: 58,289,538\n",
      "Trainable params: 58,289,538\n",
      "Non-trainable params: 0\n",
      "----------------------------------------------------------------\n",
      "Input size (MB): 18.87\n",
      "Forward/backward pass size (MB): 353.32\n",
      "Params size (MB): 222.36\n",
      "Estimated Total Size (MB): 594.55\n",
      "----------------------------------------------------------------\n"
     ]
    }
   ],
   "source": [
    "summary(model, (3, 227, 227), 32)"
   ]
  },
  {
   "cell_type": "code",
   "execution_count": 10,
   "metadata": {},
   "outputs": [],
   "source": [
    "def train_one_epoch(model, dataloader, optimizer, criterion):\n",
    "    model.train()\n",
    "    running_loss = 0.0\n",
    "    for i, data in enumerate(dataloader):\n",
    "        inputs, labels = data\n",
    "        inputs, labels = inputs.to(DEVICE), labels.to(DEVICE)\n",
    "        optimizer.zero_grad()\n",
    "        outputs = model(inputs)\n",
    "        loss = criterion(outputs, labels)\n",
    "        loss.backward()\n",
    "        optimizer.step()\n",
    "        running_loss += loss.item()\n",
    "    return running_loss / len(dataloader)"
   ]
  },
  {
   "cell_type": "code",
   "execution_count": 11,
   "metadata": {},
   "outputs": [],
   "source": [
    "def evaluate(model, dataloader, criterion):\n",
    "    model.eval()\n",
    "    running_loss = 0.0\n",
    "    correct = 0\n",
    "    total = 0\n",
    "    with torch.no_grad():\n",
    "        for i, data in enumerate(dataloader):\n",
    "            inputs, labels = data\n",
    "            inputs, labels = inputs.to(DEVICE), labels.to(DEVICE)\n",
    "            outputs = model(inputs)\n",
    "            loss = criterion(outputs, labels)\n",
    "            running_loss += loss.item()\n",
    "            _, predicted = torch.max(outputs, 1)\n",
    "            total += labels.size(0)\n",
    "            correct += (predicted == labels).sum().item()\n",
    "    return running_loss / len(dataloader), correct / total"
   ]
  },
  {
   "cell_type": "code",
   "execution_count": 12,
   "metadata": {},
   "outputs": [
    {
     "name": "stdout",
     "output_type": "stream",
     "text": [
      "epoch: 0, train_loss: 0.6817805508218439, test_loss: 0.6578057482838631, test_acc: 0.6312407315867523\n",
      "save model with loss: 0.6578057482838631\n",
      "epoch: 1, train_loss: 0.6607493577725384, test_loss: 0.6244883630424738, test_acc: 0.6643598615916955\n",
      "save model with loss: 0.6244883630424738\n",
      "epoch: 2, train_loss: 0.6442697483942328, test_loss: 0.6208392377011478, test_acc: 0.6515076618882847\n",
      "save model with loss: 0.6208392377011478\n",
      "epoch: 3, train_loss: 0.6228220049603527, test_loss: 0.5794424428604543, test_acc: 0.708353929807217\n",
      "save model with loss: 0.5794424428604543\n",
      "epoch: 4, train_loss: 0.6090286925019496, test_loss: 0.6027079704217613, test_acc: 0.6426099851705388\n",
      "epoch: 5, train_loss: 0.5921667246704557, test_loss: 0.5438654948957264, test_acc: 0.7192288680177954\n",
      "save model with loss: 0.5438654948957264\n",
      "epoch: 6, train_loss: 0.5689388073060617, test_loss: 0.5055241356603801, test_acc: 0.7647058823529411\n",
      "save model with loss: 0.5055241356603801\n",
      "epoch: 7, train_loss: 0.5411261036339035, test_loss: 0.44477617205120623, test_acc: 0.7968363816114681\n",
      "save model with loss: 0.44477617205120623\n",
      "epoch: 8, train_loss: 0.528137400568244, test_loss: 0.4153817119076848, test_acc: 0.8171033119130005\n",
      "save model with loss: 0.4153817119076848\n",
      "epoch: 9, train_loss: 0.5075749796462724, test_loss: 0.41963271680288017, test_acc: 0.8106772120612951\n",
      "epoch: 10, train_loss: 0.4981559402201755, test_loss: 0.3809836378786713, test_acc: 0.81463173504696\n",
      "save model with loss: 0.3809836378786713\n",
      "epoch: 11, train_loss: 0.48650313142048884, test_loss: 0.3984159426763654, test_acc: 0.8032624814631735\n",
      "epoch: 12, train_loss: 0.4668681439887955, test_loss: 0.3604259858839214, test_acc: 0.833415719228868\n",
      "save model with loss: 0.3604259858839214\n",
      "epoch: 13, train_loss: 0.4714507607231102, test_loss: 0.379670248599723, test_acc: 0.8319327731092437\n",
      "epoch: 14, train_loss: 0.4489250145704148, test_loss: 0.34347109333612025, test_acc: 0.8615916955017301\n",
      "save model with loss: 0.34347109333612025\n",
      "epoch: 15, train_loss: 0.44213717303190575, test_loss: 0.3919851266546175, test_acc: 0.8077113198220465\n",
      "epoch: 16, train_loss: 0.4326710576911372, test_loss: 0.3203822011128068, test_acc: 0.8586258032624815\n",
      "save model with loss: 0.3203822011128068\n",
      "epoch: 17, train_loss: 0.42163172987590275, test_loss: 0.3210458201356232, test_acc: 0.861097380128522\n",
      "epoch: 18, train_loss: 0.4078234499431701, test_loss: 0.29738915350753814, test_acc: 0.8645575877409788\n",
      "save model with loss: 0.29738915350753814\n",
      "epoch: 19, train_loss: 0.4076384877659885, test_loss: 0.32616080984007567, test_acc: 0.8521997034107761\n",
      "epoch: 20, train_loss: 0.3976069095718908, test_loss: 0.29616960720159113, test_acc: 0.879387048937222\n",
      "save model with loss: 0.29616960720159113\n",
      "epoch: 21, train_loss: 0.38329608655308345, test_loss: 0.2787781658116728, test_acc: 0.8714780029658923\n",
      "save model with loss: 0.2787781658116728\n",
      "epoch: 22, train_loss: 0.37961832822793984, test_loss: 0.26649867778178304, test_acc: 0.8813643104300544\n",
      "save model with loss: 0.26649867778178304\n",
      "epoch: 23, train_loss: 0.37768751424384783, test_loss: 0.26680972427129745, test_acc: 0.879387048937222\n",
      "epoch: 24, train_loss: 0.3682124225266901, test_loss: 0.2498081740923226, test_acc: 0.889273356401384\n",
      "save model with loss: 0.2498081740923226\n",
      "epoch: 25, train_loss: 0.359895729508058, test_loss: 0.26830694440286607, test_acc: 0.8843302026693031\n",
      "epoch: 26, train_loss: 0.3679477217425388, test_loss: 0.253989179385826, test_acc: 0.893722194760257\n",
      "epoch: 27, train_loss: 0.3605830726989237, test_loss: 0.24175488972105086, test_acc: 0.9026198714780029\n",
      "save model with loss: 0.24175488972105086\n",
      "epoch: 28, train_loss: 0.3546319469156493, test_loss: 0.25885930575896055, test_acc: 0.8838358872960949\n",
      "epoch: 29, train_loss: 0.33622047254645016, test_loss: 0.2366541626979597, test_acc: 0.9065743944636678\n",
      "save model with loss: 0.2366541626979597\n"
     ]
    }
   ],
   "source": [
    "epoch = 30\n",
    "min_loss = 10000\n",
    "EARLY_STOPPING = 5\n",
    "count = 0\n",
    "for i in range(epoch):\n",
    "    train_loss = train_one_epoch(model, train_dataloader, optimizer, criterion)\n",
    "    test_loss, test_acc = evaluate(model, test_dataloader, criterion)\n",
    "    print(f'epoch: {i}, train_loss: {train_loss}, test_loss: {test_loss}, test_acc: {test_acc}')\n",
    "    if test_loss < min_loss:\n",
    "        min_loss = test_loss\n",
    "        print(f'save model with loss: {min_loss}')\n",
    "        torch.save(model.state_dict(), 'alexnet.pth')\n",
    "        count = 0\n",
    "    else:\n",
    "        count += 1\n",
    "    if count > EARLY_STOPPING:\n",
    "        print('early stopping')\n",
    "        break"
   ]
  }
 ],
 "metadata": {
  "kernelspec": {
   "display_name": "Python 3",
   "language": "python",
   "name": "python3"
  },
  "language_info": {
   "codemirror_mode": {
    "name": "ipython",
    "version": 3
   },
   "file_extension": ".py",
   "mimetype": "text/x-python",
   "name": "python",
   "nbconvert_exporter": "python",
   "pygments_lexer": "ipython3",
   "version": "3.12.2"
  }
 },
 "nbformat": 4,
 "nbformat_minor": 2
}
